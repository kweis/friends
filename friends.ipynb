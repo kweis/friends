{
 "cells": [
  {
   "cell_type": "code",
   "execution_count": 291,
   "metadata": {
    "collapsed": true
   },
   "outputs": [],
   "source": [
    "%matplotlib inline\n",
    "import astropy.io.fits as pyfits\n",
    "import numpy as np\n",
    "import matplotlib.pyplot as plt\n",
    "from urllib import urlopen\n",
    "import pandas\n",
    "from collections import Counter"
   ]
  },
  {
   "cell_type": "code",
   "execution_count": 292,
   "metadata": {
    "collapsed": false
   },
   "outputs": [],
   "source": [
    "name = [\"\" for x in range(len(webs))]\n",
    "for i,url in enumerate(webs):\n",
    "    html = urlopen(url).read()\n",
    "    oc = \"opening\"\n",
    "    try:\n",
    "        oc_idx = (html.lower()).index(oc)\n",
    "    \n",
    "        # name index\n",
    "        n_idx = html[oc_idx::-1].index(\":\")\n",
    "        # break index\n",
    "        b_idx = html[oc_idx-n_idx::-1].index(\">\")\n",
    "    \n",
    "        name[i] = (html[(oc_idx-n_idx-b_idx+1):(oc_idx-n_idx)]).strip(\"\\n\")\n",
    "    except:\n",
    "        #print i\n",
    "        #print url\n",
    "        continue\n",
    "        \n",
    "    #print i\n",
    "    #print url\n",
    "    #print name[i]"
   ]
  },
  {
   "cell_type": "code",
   "execution_count": 293,
   "metadata": {
    "collapsed": false
   },
   "outputs": [],
   "source": [
    "# some manual entries \n",
    "name[15] = 'Chandler and Joey'\n",
    "name[16] = ''\n",
    "name[18] = 'Rachel'\n",
    "name[31] = 'Joey'\n",
    "name[33] = 'Monica'\n",
    "name[34] = 'Ross'\n",
    "name[37] = 'Chandler and Joey'\n",
    "name[42] = 'Phoebe'\n",
    "name[62] = 'Chloe'\n",
    "name[75] = 'Monica'\n",
    "name[79] = 'Chandler'\n",
    "name[86] = 'Janice'\n",
    "name[102] = 'Joey'\n",
    "name[193] = 'Chandler'\n",
    "name[195] = 'Chandler'\n",
    "name[196] = 'Chandler'\n",
    "name[199] = 'Chandler'\n",
    "name[200] = 'Joey'\n",
    "name[201] = 'Ross'\n",
    "name[202] = 'Chandler'\n",
    "name[210] = 'Monica'\n",
    "name[225] = 'Chandler'\n",
    "name[226] = 'Ross' "
   ]
  },
  {
   "cell_type": "code",
   "execution_count": 297,
   "metadata": {
    "collapsed": false
   },
   "outputs": [
    {
     "data": {
      "text/plain": [
       "<matplotlib.axes._subplots.AxesSubplot at 0x1186b4950>"
      ]
     },
     "execution_count": 297,
     "metadata": {},
     "output_type": "execute_result"
    },
    {
     "data": {
      "image/png": "[encoded data removed]",
      "text/plain": [
       "<matplotlib.figure.Figure at 0x1182abc50>"
      ]
     },
     "metadata": {},
     "output_type": "display_data"
    }
   ],
   "source": [
    "final = [x.upper() for x in name]\n",
    "letter_counts = Counter(final)\n",
    "df = pandas.DataFrame.from_dict(letter_counts, orient='index')\n",
    "df.plot(kind='bar')"
   ]
  },
  {
   "cell_type": "code",
   "execution_count": 298,
   "metadata": {
    "collapsed": false
   },
   "outputs": [
    {
     "data": {
      "text/plain": [
       "Counter({'': 2,\n",
       "         'ALICE': 1,\n",
       "         'ALL': 1,\n",
       "         'CHANDLER': 61,\n",
       "         'CHANDLER AND JOEY': 2,\n",
       "         'CHLOE': 1,\n",
       "         'EDDIE': 1,\n",
       "         'GUNTHER': 2,\n",
       "         'JANICE': 1,\n",
       "         'JOEY': 59,\n",
       "         'MONICA': 23,\n",
       "         'PHOEBE': 35,\n",
       "         'RACHEL': 17,\n",
       "         'ROSS': 19,\n",
       "         'SHELLEY': 1,\n",
       "         'STRANGER': 1})"
      ]
     },
     "execution_count": 298,
     "metadata": {},
     "output_type": "execute_result"
    }
   ],
   "source": [
    "letter_counts"
   ]
  },
  {
   "cell_type": "code",
   "execution_count": null,
   "metadata": {
    "collapsed": true
   },
   "outputs": [],
   "source": []
  }
 ],
 "metadata": {
  "kernelspec": {
   "display_name": "Python 2",
   "language": "python",
   "name": "python2"
  },
  "language_info": {
   "codemirror_mode": {
    "name": "ipython",
    "version": 2
   },
   "file_extension": ".py",
   "mimetype": "text/x-python",
   "name": "python",
   "nbconvert_exporter": "python",
   "pygments_lexer": "ipython2",
   "version": "2.7.5"
  }
 },
 "nbformat": 4,
 "nbformat_minor": 0
}
